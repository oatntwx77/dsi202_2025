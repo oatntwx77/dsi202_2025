{
 "cells": [
  {
   "cell_type": "code",
   "execution_count": 16,
   "id": "e5c7d802-c25d-4c27-9edf-feb4da2bd0b5",
   "metadata": {
    "editable": true,
    "slideshow": {
     "slide_type": ""
    },
    "tags": []
   },
   "outputs": [
    {
     "ename": "NotImplementedError",
     "evalue": "",
     "output_type": "error",
     "traceback": [
      "\u001b[31m---------------------------------------------------------------------------\u001b[39m",
      "\u001b[31mNotImplementedError\u001b[39m                       Traceback (most recent call last)",
      "\u001b[36mCell\u001b[39m\u001b[36m \u001b[39m\u001b[32mIn[16]\u001b[39m\u001b[32m, line 35\u001b[39m\n\u001b[32m     32\u001b[39m     \u001b[38;5;28;01mreturn\u001b[39;00m deployment\n\u001b[32m     34\u001b[39m \u001b[38;5;66;03m# Run the async function in Jupyter using await at top-level\u001b[39;00m\n\u001b[32m---> \u001b[39m\u001b[32m35\u001b[39m deployment_result = \u001b[38;5;28;01mawait\u001b[39;00m register_deployment()\n\u001b[32m     36\u001b[39m \u001b[38;5;28mprint\u001b[39m(\u001b[33m\"\u001b[39m\u001b[33mDeployment registered:\u001b[39m\u001b[33m\"\u001b[39m, deployment_result)\n",
      "\u001b[36mCell\u001b[39m\u001b[36m \u001b[39m\u001b[32mIn[16]\u001b[39m\u001b[32m, line 13\u001b[39m, in \u001b[36mregister_deployment\u001b[39m\u001b[34m()\u001b[39m\n\u001b[32m     11\u001b[39m \u001b[38;5;28;01masync\u001b[39;00m \u001b[38;5;28;01mdef\u001b[39;00m\u001b[38;5;250m \u001b[39m\u001b[34mregister_deployment\u001b[39m():\n\u001b[32m     12\u001b[39m     \u001b[38;5;66;03m# Await the from_source call to load the flow\u001b[39;00m\n\u001b[32m---> \u001b[39m\u001b[32m13\u001b[39m     loaded_flow = \u001b[38;5;28;01mawait\u001b[39;00m flow.from_source(\n\u001b[32m     14\u001b[39m         source=SOURCE_REPO,\n\u001b[32m     15\u001b[39m         entrypoint=\u001b[33m\"\u001b[39m\u001b[33mmy_workflow.py:show_stars\u001b[39m\u001b[33m\"\u001b[39m,  \u001b[38;5;66;03m# Adjust to your repo's structure\u001b[39;00m\n\u001b[32m     16\u001b[39m     )\n\u001b[32m     17\u001b[39m     \u001b[38;5;66;03m# Now deploy the loaded flow (awaiting the deploy call)\u001b[39;00m\n\u001b[32m     18\u001b[39m     deployment = \u001b[38;5;28;01mawait\u001b[39;00m loaded_flow.deploy(\n\u001b[32m     19\u001b[39m         name=\u001b[33m\"\u001b[39m\u001b[33mmy_deployment\u001b[39m\u001b[33m\"\u001b[39m,\n\u001b[32m     20\u001b[39m \n\u001b[32m   (...)\u001b[39m\u001b[32m     30\u001b[39m         cron=\u001b[33m\"\u001b[39m\u001b[33m*/5 * * * *\u001b[39m\u001b[33m\"\u001b[39m  \u001b[38;5;66;03m# Run every 5 minutes (adjust as needed)\u001b[39;00m\n\u001b[32m     31\u001b[39m     )\n",
      "\u001b[36mFile \u001b[39m\u001b[32mc:\\Users\\natth\\AppData\\Local\\Programs\\Python\\Python313\\Lib\\site-packages\\prefect\\flows.py:1244\u001b[39m, in \u001b[36mFlow.afrom_source\u001b[39m\u001b[34m(cls, source, entrypoint)\u001b[39m\n\u001b[32m   1242\u001b[39m \u001b[38;5;28;01mif\u001b[39;00m \u001b[38;5;129;01mnot\u001b[39;00m \u001b[38;5;28misinstance\u001b[39m(storage, LocalStorage):\n\u001b[32m   1243\u001b[39m     storage.set_base_path(Path(tmpdir))\n\u001b[32m-> \u001b[39m\u001b[32m1244\u001b[39m     \u001b[38;5;28;01mawait\u001b[39;00m storage.pull_code()\n\u001b[32m   1246\u001b[39m full_entrypoint = \u001b[38;5;28mstr\u001b[39m(storage.destination / entrypoint)\n\u001b[32m   1247\u001b[39m flow = cast(\n\u001b[32m   1248\u001b[39m     \u001b[33m\"\u001b[39m\u001b[33mFlow[..., Any]\u001b[39m\u001b[33m\"\u001b[39m,\n\u001b[32m   1249\u001b[39m     \u001b[38;5;28;01mawait\u001b[39;00m from_async.wait_for_call_in_new_thread(\n\u001b[32m   1250\u001b[39m         create_call(load_flow_from_entrypoint, full_entrypoint)\n\u001b[32m   1251\u001b[39m     ),\n\u001b[32m   1252\u001b[39m )\n",
      "\u001b[36mFile \u001b[39m\u001b[32mc:\\Users\\natth\\AppData\\Local\\Programs\\Python\\Python313\\Lib\\site-packages\\prefect\\runner\\storage.py:348\u001b[39m, in \u001b[36mGitRepository.pull_code\u001b[39m\u001b[34m(self)\u001b[39m\n\u001b[32m    345\u001b[39m             \u001b[38;5;28;01mawait\u001b[39;00m \u001b[38;5;28mself\u001b[39m._clone_repo()\n\u001b[32m    347\u001b[39m \u001b[38;5;28;01melse\u001b[39;00m:\n\u001b[32m--> \u001b[39m\u001b[32m348\u001b[39m     \u001b[38;5;28;01mawait\u001b[39;00m \u001b[38;5;28mself\u001b[39m._clone_repo()\n",
      "\u001b[36mFile \u001b[39m\u001b[32mc:\\Users\\natth\\AppData\\Local\\Programs\\Python\\Python313\\Lib\\site-packages\\prefect\\runner\\storage.py:384\u001b[39m, in \u001b[36mGitRepository._clone_repo\u001b[39m\u001b[34m(self)\u001b[39m\n\u001b[32m    381\u001b[39m cmd += [\u001b[38;5;28mstr\u001b[39m(\u001b[38;5;28mself\u001b[39m.destination)]\n\u001b[32m    383\u001b[39m \u001b[38;5;28;01mtry\u001b[39;00m:\n\u001b[32m--> \u001b[39m\u001b[32m384\u001b[39m     \u001b[38;5;28;01mawait\u001b[39;00m run_process(cmd)\n\u001b[32m    385\u001b[39m \u001b[38;5;28;01mexcept\u001b[39;00m subprocess.CalledProcessError \u001b[38;5;28;01mas\u001b[39;00m exc:\n\u001b[32m    386\u001b[39m     \u001b[38;5;66;03m# Hide the command used to avoid leaking the access token\u001b[39;00m\n\u001b[32m    387\u001b[39m     exc_chain = \u001b[38;5;28;01mNone\u001b[39;00m \u001b[38;5;28;01mif\u001b[39;00m \u001b[38;5;28mself\u001b[39m._credentials \u001b[38;5;28;01melse\u001b[39;00m exc\n",
      "\u001b[36mFile \u001b[39m\u001b[32mc:\\Users\\natth\\AppData\\Local\\Programs\\Python\\Python313\\Lib\\site-packages\\anyio\\_core\\_subprocesses.py:91\u001b[39m, in \u001b[36mrun_process\u001b[39m\u001b[34m(command, input, stdin, stdout, stderr, check, cwd, env, startupinfo, creationflags, start_new_session, pass_fds, user, group, extra_groups, umask)\u001b[39m\n\u001b[32m     88\u001b[39m \u001b[38;5;28;01mif\u001b[39;00m stdin \u001b[38;5;129;01mis\u001b[39;00m \u001b[38;5;129;01mnot\u001b[39;00m \u001b[38;5;28;01mNone\u001b[39;00m \u001b[38;5;129;01mand\u001b[39;00m \u001b[38;5;28minput\u001b[39m \u001b[38;5;129;01mis\u001b[39;00m \u001b[38;5;129;01mnot\u001b[39;00m \u001b[38;5;28;01mNone\u001b[39;00m:\n\u001b[32m     89\u001b[39m     \u001b[38;5;28;01mraise\u001b[39;00m \u001b[38;5;167;01mValueError\u001b[39;00m(\u001b[33m\"\u001b[39m\u001b[33monly one of stdin and input is allowed\u001b[39m\u001b[33m\"\u001b[39m)\n\u001b[32m---> \u001b[39m\u001b[32m91\u001b[39m \u001b[38;5;28;01masync\u001b[39;00m \u001b[38;5;28;01mwith\u001b[39;00m \u001b[38;5;28;01mawait\u001b[39;00m open_process(\n\u001b[32m     92\u001b[39m     command,\n\u001b[32m     93\u001b[39m     stdin=PIPE \u001b[38;5;28;01mif\u001b[39;00m \u001b[38;5;28minput\u001b[39m \u001b[38;5;28;01melse\u001b[39;00m stdin,\n\u001b[32m     94\u001b[39m     stdout=stdout,\n\u001b[32m     95\u001b[39m     stderr=stderr,\n\u001b[32m     96\u001b[39m     cwd=cwd,\n\u001b[32m     97\u001b[39m     env=env,\n\u001b[32m     98\u001b[39m     startupinfo=startupinfo,\n\u001b[32m     99\u001b[39m     creationflags=creationflags,\n\u001b[32m    100\u001b[39m     start_new_session=start_new_session,\n\u001b[32m    101\u001b[39m     pass_fds=pass_fds,\n\u001b[32m    102\u001b[39m     user=user,\n\u001b[32m    103\u001b[39m     group=group,\n\u001b[32m    104\u001b[39m     extra_groups=extra_groups,\n\u001b[32m    105\u001b[39m     umask=umask,\n\u001b[32m    106\u001b[39m ) \u001b[38;5;28;01mas\u001b[39;00m process:\n\u001b[32m    107\u001b[39m     stream_contents: \u001b[38;5;28mlist\u001b[39m[\u001b[38;5;28mbytes\u001b[39m | \u001b[38;5;28;01mNone\u001b[39;00m] = [\u001b[38;5;28;01mNone\u001b[39;00m, \u001b[38;5;28;01mNone\u001b[39;00m]\n\u001b[32m    108\u001b[39m     \u001b[38;5;28;01masync\u001b[39;00m \u001b[38;5;28;01mwith\u001b[39;00m create_task_group() \u001b[38;5;28;01mas\u001b[39;00m tg:\n",
      "\u001b[36mFile \u001b[39m\u001b[32mc:\\Users\\natth\\AppData\\Local\\Programs\\Python\\Python313\\Lib\\site-packages\\anyio\\_core\\_subprocesses.py:190\u001b[39m, in \u001b[36mopen_process\u001b[39m\u001b[34m(command, stdin, stdout, stderr, cwd, env, startupinfo, creationflags, start_new_session, pass_fds, user, group, extra_groups, umask)\u001b[39m\n\u001b[32m    187\u001b[39m \u001b[38;5;28;01mif\u001b[39;00m umask >= \u001b[32m0\u001b[39m:\n\u001b[32m    188\u001b[39m     kwargs[\u001b[33m\"\u001b[39m\u001b[33mumask\u001b[39m\u001b[33m\"\u001b[39m] = umask\n\u001b[32m--> \u001b[39m\u001b[32m190\u001b[39m \u001b[38;5;28;01mreturn\u001b[39;00m \u001b[38;5;28;01mawait\u001b[39;00m get_async_backend().open_process(\n\u001b[32m    191\u001b[39m     command,\n\u001b[32m    192\u001b[39m     stdin=stdin,\n\u001b[32m    193\u001b[39m     stdout=stdout,\n\u001b[32m    194\u001b[39m     stderr=stderr,\n\u001b[32m    195\u001b[39m     cwd=cwd,\n\u001b[32m    196\u001b[39m     env=env,\n\u001b[32m    197\u001b[39m     startupinfo=startupinfo,\n\u001b[32m    198\u001b[39m     creationflags=creationflags,\n\u001b[32m    199\u001b[39m     start_new_session=start_new_session,\n\u001b[32m    200\u001b[39m     pass_fds=pass_fds,\n\u001b[32m    201\u001b[39m     **kwargs,\n\u001b[32m    202\u001b[39m )\n",
      "\u001b[36mFile \u001b[39m\u001b[32mc:\\Users\\natth\\AppData\\Local\\Programs\\Python\\Python313\\Lib\\site-packages\\anyio\\_backends\\_asyncio.py:2561\u001b[39m, in \u001b[36mAsyncIOBackend.open_process\u001b[39m\u001b[34m(cls, command, stdin, stdout, stderr, **kwargs)\u001b[39m\n\u001b[32m   2553\u001b[39m     process = \u001b[38;5;28;01mawait\u001b[39;00m asyncio.create_subprocess_shell(\n\u001b[32m   2554\u001b[39m         command,\n\u001b[32m   2555\u001b[39m         stdin=stdin,\n\u001b[32m   (...)\u001b[39m\u001b[32m   2558\u001b[39m         **kwargs,\n\u001b[32m   2559\u001b[39m     )\n\u001b[32m   2560\u001b[39m \u001b[38;5;28;01melse\u001b[39;00m:\n\u001b[32m-> \u001b[39m\u001b[32m2561\u001b[39m     process = \u001b[38;5;28;01mawait\u001b[39;00m asyncio.create_subprocess_exec(\n\u001b[32m   2562\u001b[39m         *command,\n\u001b[32m   2563\u001b[39m         stdin=stdin,\n\u001b[32m   2564\u001b[39m         stdout=stdout,\n\u001b[32m   2565\u001b[39m         stderr=stderr,\n\u001b[32m   2566\u001b[39m         **kwargs,\n\u001b[32m   2567\u001b[39m     )\n\u001b[32m   2569\u001b[39m stdin_stream = StreamWriterWrapper(process.stdin) \u001b[38;5;28;01mif\u001b[39;00m process.stdin \u001b[38;5;28;01melse\u001b[39;00m \u001b[38;5;28;01mNone\u001b[39;00m\n\u001b[32m   2570\u001b[39m stdout_stream = StreamReaderWrapper(process.stdout) \u001b[38;5;28;01mif\u001b[39;00m process.stdout \u001b[38;5;28;01melse\u001b[39;00m \u001b[38;5;28;01mNone\u001b[39;00m\n",
      "\u001b[36mFile \u001b[39m\u001b[32mc:\\Users\\natth\\AppData\\Local\\Programs\\Python\\Python313\\Lib\\asyncio\\subprocess.py:224\u001b[39m, in \u001b[36mcreate_subprocess_exec\u001b[39m\u001b[34m(program, stdin, stdout, stderr, limit, *args, **kwds)\u001b[39m\n\u001b[32m    221\u001b[39m loop = events.get_running_loop()\n\u001b[32m    222\u001b[39m protocol_factory = \u001b[38;5;28;01mlambda\u001b[39;00m: SubprocessStreamProtocol(limit=limit,\n\u001b[32m    223\u001b[39m                                                     loop=loop)\n\u001b[32m--> \u001b[39m\u001b[32m224\u001b[39m transport, protocol = \u001b[38;5;28;01mawait\u001b[39;00m loop.subprocess_exec(\n\u001b[32m    225\u001b[39m     protocol_factory,\n\u001b[32m    226\u001b[39m     program, *args,\n\u001b[32m    227\u001b[39m     stdin=stdin, stdout=stdout,\n\u001b[32m    228\u001b[39m     stderr=stderr, **kwds)\n\u001b[32m    229\u001b[39m \u001b[38;5;28;01mreturn\u001b[39;00m Process(transport, protocol, loop)\n",
      "\u001b[36mFile \u001b[39m\u001b[32mc:\\Users\\natth\\AppData\\Local\\Programs\\Python\\Python313\\Lib\\asyncio\\base_events.py:1788\u001b[39m, in \u001b[36mBaseEventLoop.subprocess_exec\u001b[39m\u001b[34m(self, protocol_factory, program, stdin, stdout, stderr, universal_newlines, shell, bufsize, encoding, errors, text, *args, **kwargs)\u001b[39m\n\u001b[32m   1786\u001b[39m     debug_log = \u001b[33mf\u001b[39m\u001b[33m'\u001b[39m\u001b[33mexecute program \u001b[39m\u001b[38;5;132;01m{\u001b[39;00mprogram\u001b[38;5;132;01m!r}\u001b[39;00m\u001b[33m'\u001b[39m\n\u001b[32m   1787\u001b[39m     \u001b[38;5;28mself\u001b[39m._log_subprocess(debug_log, stdin, stdout, stderr)\n\u001b[32m-> \u001b[39m\u001b[32m1788\u001b[39m transport = \u001b[38;5;28;01mawait\u001b[39;00m \u001b[38;5;28mself\u001b[39m._make_subprocess_transport(\n\u001b[32m   1789\u001b[39m     protocol, popen_args, \u001b[38;5;28;01mFalse\u001b[39;00m, stdin, stdout, stderr,\n\u001b[32m   1790\u001b[39m     bufsize, **kwargs)\n\u001b[32m   1791\u001b[39m \u001b[38;5;28;01mif\u001b[39;00m \u001b[38;5;28mself\u001b[39m._debug \u001b[38;5;129;01mand\u001b[39;00m debug_log \u001b[38;5;129;01mis\u001b[39;00m \u001b[38;5;129;01mnot\u001b[39;00m \u001b[38;5;28;01mNone\u001b[39;00m:\n\u001b[32m   1792\u001b[39m     logger.info(\u001b[33m'\u001b[39m\u001b[38;5;132;01m%s\u001b[39;00m\u001b[33m: \u001b[39m\u001b[38;5;132;01m%r\u001b[39;00m\u001b[33m'\u001b[39m, debug_log, transport)\n",
      "\u001b[36mFile \u001b[39m\u001b[32mc:\\Users\\natth\\AppData\\Local\\Programs\\Python\\Python313\\Lib\\asyncio\\base_events.py:533\u001b[39m, in \u001b[36mBaseEventLoop._make_subprocess_transport\u001b[39m\u001b[34m(self, protocol, args, shell, stdin, stdout, stderr, bufsize, extra, **kwargs)\u001b[39m\n\u001b[32m    529\u001b[39m \u001b[38;5;28;01masync\u001b[39;00m \u001b[38;5;28;01mdef\u001b[39;00m\u001b[38;5;250m \u001b[39m\u001b[34m_make_subprocess_transport\u001b[39m(\u001b[38;5;28mself\u001b[39m, protocol, args, shell,\n\u001b[32m    530\u001b[39m                                      stdin, stdout, stderr, bufsize,\n\u001b[32m    531\u001b[39m                                      extra=\u001b[38;5;28;01mNone\u001b[39;00m, **kwargs):\n\u001b[32m    532\u001b[39m \u001b[38;5;250m    \u001b[39m\u001b[33;03m\"\"\"Create subprocess transport.\"\"\"\u001b[39;00m\n\u001b[32m--> \u001b[39m\u001b[32m533\u001b[39m     \u001b[38;5;28;01mraise\u001b[39;00m \u001b[38;5;167;01mNotImplementedError\u001b[39;00m\n",
      "\u001b[31mNotImplementedError\u001b[39m: "
     ]
    }
   ],
   "source": [
    "import nest_asyncio\n",
    "nest_asyncio.apply()\n",
    "\n",
    "import asyncio\n",
    "from prefect import flow\n",
    "# Use the proper import for deployments if needed (depending on your version)\n",
    "# For example, in Prefect 3, the flow.from_source method is asynchronous.\n",
    "\n",
    "SOURCE_REPO = \"https://github.com/prefecthq/demos.git\"\n",
    "\n",
    "async def register_deployment():\n",
    "    # Await the from_source call to load the flow\n",
    "    loaded_flow = await flow.from_source(\n",
    "        source=SOURCE_REPO,\n",
    "        entrypoint=\"my_workflow.py:show_stars\",  # Adjust to your repo's structure\n",
    "    )\n",
    "    # Now deploy the loaded flow (awaiting the deploy call)\n",
    "    deployment = await loaded_flow.deploy(\n",
    "        name=\"my_deployment\",\n",
    "        \n",
    "        parameters={\n",
    "            \"github_repos\": [\n",
    "                \"wasit7/papapipeline\",\n",
    "                \"wasit7/DjangoCrafter\",\n",
    "                \"PrefectHQ/prefect\",\n",
    "                \"huggingface/transformers\"\n",
    "            ]\n",
    "        },\n",
    "        work_pool_name=\"default-agent-pool\",\n",
    "        cron=\"*/5 * * * *\"  # Run every 5 minutes (adjust as needed)\n",
    "    )\n",
    "    return deployment\n",
    "\n",
    "# Run the async function in Jupyter using await at top-level\n",
    "deployment_result = await register_deployment()\n",
    "print(\"Deployment registered:\", deployment_result)\n"
   ]
  },
  {
   "cell_type": "code",
   "execution_count": null,
   "id": "428f209e-340a-4715-8f60-ca70fc3b3c21",
   "metadata": {},
   "outputs": [],
   "source": []
  },
  {
   "cell_type": "code",
   "execution_count": null,
   "id": "79757a2e",
   "metadata": {},
   "outputs": [],
   "source": []
  },
  {
   "cell_type": "code",
   "execution_count": null,
   "id": "8d9a09f5",
   "metadata": {},
   "outputs": [],
   "source": []
  },
  {
   "cell_type": "code",
   "execution_count": null,
   "id": "3b066a72",
   "metadata": {},
   "outputs": [],
   "source": []
  },
  {
   "cell_type": "code",
   "execution_count": null,
   "id": "a8dc78bc",
   "metadata": {},
   "outputs": [],
   "source": []
  }
 ],
 "metadata": {
  "kernelspec": {
   "display_name": "Python 3",
   "language": "python",
   "name": "python3"
  },
  "language_info": {
   "codemirror_mode": {
    "name": "ipython",
    "version": 3
   },
   "file_extension": ".py",
   "mimetype": "text/x-python",
   "name": "python",
   "nbconvert_exporter": "python",
   "pygments_lexer": "ipython3",
   "version": "3.13.3"
  }
 },
 "nbformat": 4,
 "nbformat_minor": 5
}
